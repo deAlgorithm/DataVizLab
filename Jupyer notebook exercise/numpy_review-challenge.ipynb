{
 "cells": [
  {
   "cell_type": "markdown",
   "metadata": {},
   "source": [
    "# NumPy Review Challenge\n",
    "\n",
    "To review some basic concepts, attempt to perform these basic NumPy tasks on your own."
   ]
  },
  {
   "cell_type": "markdown",
   "metadata": {},
   "source": [
    "### **NAME** : OTABIL ISHAQUE\n",
    "### **EMAIL** : ishaqueotabi44@gmail.com"
   ]
  },
  {
   "cell_type": "markdown",
   "metadata": {},
   "source": [
    "Import numpy as np and check your version."
   ]
  },
  {
   "cell_type": "code",
   "execution_count": 1,
   "metadata": {},
   "outputs": [
    {
     "data": {
      "text/plain": [
       "'1.26.4'"
      ]
     },
     "execution_count": 1,
     "metadata": {},
     "output_type": "execute_result"
    }
   ],
   "source": [
    "import numpy as np\n",
    "np.version.version # or print(np.__version__)"
   ]
  },
  {
   "cell_type": "markdown",
   "metadata": {},
   "source": [
    "**Q1:** Create a 1D array of numbers from `0` to `9` and save it as `Q1`."
   ]
  },
  {
   "cell_type": "code",
   "execution_count": 5,
   "metadata": {},
   "outputs": [
    {
     "data": {
      "text/plain": [
       "array([0, 1, 2, 3, 4, 5, 6, 7, 8, 9])"
      ]
     },
     "execution_count": 5,
     "metadata": {},
     "output_type": "execute_result"
    }
   ],
   "source": [
    "#Creating 1D array of numbers 0 to 9\n",
    "Q1= np.array(np.arange(0,10))\n",
    "Q1"
   ]
  },
  {
   "cell_type": "code",
   "execution_count": 2,
   "metadata": {},
   "outputs": [
    {
     "data": {
      "text/plain": [
       "array([0, 1, 2, 3, 4, 5, 6, 7, 8, 9])"
      ]
     },
     "execution_count": 2,
     "metadata": {},
     "output_type": "execute_result"
    }
   ],
   "source": [
    "#answer"
   ]
  },
  {
   "cell_type": "markdown",
   "metadata": {},
   "source": [
    "**Q2:** Create a 1D array of numbers from `10` to `49` and save it as `Q2`."
   ]
  },
  {
   "cell_type": "code",
   "execution_count": 6,
   "metadata": {},
   "outputs": [
    {
     "data": {
      "text/plain": [
       "array([10, 11, 12, 13, 14, 15, 16, 17, 18, 19, 20, 21, 22, 23, 24, 25, 26,\n",
       "       27, 28, 29, 30, 31, 32, 33, 34, 35, 36, 37, 38, 39, 40, 41, 42, 43,\n",
       "       44, 45, 46, 47, 48, 49])"
      ]
     },
     "execution_count": 6,
     "metadata": {},
     "output_type": "execute_result"
    }
   ],
   "source": [
    "# Creating a 1D array of numbers from 10 to 49\n",
    "Q2 = np.array(np.arange(10,50))\n",
    "Q2"
   ]
  },
  {
   "cell_type": "code",
   "execution_count": 3,
   "metadata": {},
   "outputs": [
    {
     "data": {
      "text/plain": [
       "array([10, 11, 12, 13, 14, 15, 16, 17, 18, 19, 20, 21, 22, 23, 24, 25, 26,\n",
       "       27, 28, 29, 30, 31, 32, 33, 34, 35, 36, 37, 38, 39, 40, 41, 42, 43,\n",
       "       44, 45, 46, 47, 48, 49])"
      ]
     },
     "execution_count": 3,
     "metadata": {},
     "output_type": "execute_result"
    }
   ],
   "source": [
    "#answer"
   ]
  },
  {
   "cell_type": "markdown",
   "metadata": {},
   "source": [
    "**Q3:** Copy the `Q2` array and save it as `Q3`.  Reverse the values in the `Q3` array (first element becomes the last)."
   ]
  },
  {
   "cell_type": "code",
   "execution_count": 27,
   "metadata": {},
   "outputs": [
    {
     "data": {
      "text/plain": [
       "array([49, 48, 47, 46, 45, 44, 43, 42, 41, 40, 39, 38, 37, 36, 35, 34, 33,\n",
       "       32, 31, 30, 29, 28, 27, 26, 25, 24, 23, 22, 21, 20, 19, 18, 17, 16,\n",
       "       15, 14, 13, 12, 11, 10])"
      ]
     },
     "execution_count": 27,
     "metadata": {},
     "output_type": "execute_result"
    }
   ],
   "source": [
    "Q3 = Q2.copy()\n",
    "Q3[::-1]"
   ]
  },
  {
   "cell_type": "code",
   "execution_count": 4,
   "metadata": {},
   "outputs": [
    {
     "data": {
      "text/plain": [
       "array([49, 48, 47, 46, 45, 44, 43, 42, 41, 40, 39, 38, 37, 36, 35, 34, 33,\n",
       "       32, 31, 30, 29, 28, 27, 26, 25, 24, 23, 22, 21, 20, 19, 18, 17, 16,\n",
       "       15, 14, 13, 12, 11, 10])"
      ]
     },
     "execution_count": 4,
     "metadata": {},
     "output_type": "execute_result"
    }
   ],
   "source": [
    "#Answer"
   ]
  },
  {
   "cell_type": "markdown",
   "metadata": {},
   "source": [
    "**Q4:** Create a `3x3` matrix with values ranging from `1` to `9` and save it as `Q4`."
   ]
  },
  {
   "cell_type": "code",
   "execution_count": 33,
   "metadata": {},
   "outputs": [
    {
     "data": {
      "text/plain": [
       "array([[1, 2, 3],\n",
       "       [4, 5, 6],\n",
       "       [7, 8, 9]])"
      ]
     },
     "execution_count": 33,
     "metadata": {},
     "output_type": "execute_result"
    }
   ],
   "source": [
    "Q4 = np.arange(1,10)\n",
    "Q4.reshape(3,3)"
   ]
  },
  {
   "cell_type": "code",
   "execution_count": 5,
   "metadata": {},
   "outputs": [
    {
     "data": {
      "text/plain": [
       "array([[1, 2, 3],\n",
       "       [4, 5, 6],\n",
       "       [7, 8, 9]])"
      ]
     },
     "execution_count": 5,
     "metadata": {},
     "output_type": "execute_result"
    }
   ],
   "source": [
    "#answer"
   ]
  },
  {
   "cell_type": "markdown",
   "metadata": {},
   "source": [
    "**Q5:** Set a random seed of `42`. Create a `10x5` array with random values and save it as `Q5`.  Use [np.random.random()](https://numpy.org/doc/stable/reference/random/generated/numpy.random.random.html#).  As a check, your first row of the array should be: `[0.37454012, 0.95071431, 0.73199394, 0.59865848, 0.15601864]`"
   ]
  },
  {
   "cell_type": "code",
   "execution_count": 37,
   "metadata": {},
   "outputs": [
    {
     "data": {
      "text/plain": [
       "array([[0.37454012, 0.95071431, 0.73199394, 0.59865848, 0.15601864],\n",
       "       [0.15599452, 0.05808361, 0.86617615, 0.60111501, 0.70807258],\n",
       "       [0.02058449, 0.96990985, 0.83244264, 0.21233911, 0.18182497],\n",
       "       [0.18340451, 0.30424224, 0.52475643, 0.43194502, 0.29122914],\n",
       "       [0.61185289, 0.13949386, 0.29214465, 0.36636184, 0.45606998],\n",
       "       [0.78517596, 0.19967378, 0.51423444, 0.59241457, 0.04645041],\n",
       "       [0.60754485, 0.17052412, 0.06505159, 0.94888554, 0.96563203],\n",
       "       [0.80839735, 0.30461377, 0.09767211, 0.68423303, 0.44015249],\n",
       "       [0.12203823, 0.49517691, 0.03438852, 0.9093204 , 0.25877998],\n",
       "       [0.66252228, 0.31171108, 0.52006802, 0.54671028, 0.18485446]])"
      ]
     },
     "execution_count": 37,
     "metadata": {},
     "output_type": "execute_result"
    }
   ],
   "source": [
    "# random seed\n",
    "np.random.seed(42)\n",
    "Q5 = np.random.random(50).reshape(10,5)\n",
    "Q5"
   ]
  },
  {
   "cell_type": "code",
   "execution_count": 6,
   "metadata": {},
   "outputs": [
    {
     "data": {
      "text/plain": [
       "array([[0.37454012, 0.95071431, 0.73199394, 0.59865848, 0.15601864],\n",
       "       [0.15599452, 0.05808361, 0.86617615, 0.60111501, 0.70807258],\n",
       "       [0.02058449, 0.96990985, 0.83244264, 0.21233911, 0.18182497],\n",
       "       [0.18340451, 0.30424224, 0.52475643, 0.43194502, 0.29122914],\n",
       "       [0.61185289, 0.13949386, 0.29214465, 0.36636184, 0.45606998],\n",
       "       [0.78517596, 0.19967378, 0.51423444, 0.59241457, 0.04645041],\n",
       "       [0.60754485, 0.17052412, 0.06505159, 0.94888554, 0.96563203],\n",
       "       [0.80839735, 0.30461377, 0.09767211, 0.68423303, 0.44015249],\n",
       "       [0.12203823, 0.49517691, 0.03438852, 0.9093204 , 0.25877998],\n",
       "       [0.66252228, 0.31171108, 0.52006802, 0.54671028, 0.18485446]])"
      ]
     },
     "execution_count": 6,
     "metadata": {},
     "output_type": "execute_result"
    }
   ],
   "source": [
    "#answer"
   ]
  },
  {
   "cell_type": "markdown",
   "metadata": {},
   "source": [
    "**Q6:** Find the minimum and maximum values of above `Q5` array, rounding them to 4 decimal places.  Call the values `Q6A` and `Q6B` respectively. "
   ]
  },
  {
   "cell_type": "code",
   "execution_count": 44,
   "metadata": {},
   "outputs": [],
   "source": [
    "Q6A = np.round(Q5.min(),4)\n",
    "Q6B = np.round(Q5.max(),4)"
   ]
  },
  {
   "cell_type": "code",
   "execution_count": 45,
   "metadata": {},
   "outputs": [
    {
     "data": {
      "text/plain": [
       "0.0206"
      ]
     },
     "execution_count": 45,
     "metadata": {},
     "output_type": "execute_result"
    }
   ],
   "source": [
    "Q6A"
   ]
  },
  {
   "cell_type": "code",
   "execution_count": 46,
   "metadata": {},
   "outputs": [
    {
     "data": {
      "text/plain": [
       "0.9699"
      ]
     },
     "execution_count": 46,
     "metadata": {},
     "output_type": "execute_result"
    }
   ],
   "source": [
    "Q6B"
   ]
  },
  {
   "cell_type": "code",
   "execution_count": 7,
   "metadata": {},
   "outputs": [
    {
     "data": {
      "text/plain": [
       "0.0206"
      ]
     },
     "execution_count": 7,
     "metadata": {},
     "output_type": "execute_result"
    }
   ],
   "source": [
    "#answer\n",
    "Q6A"
   ]
  },
  {
   "cell_type": "code",
   "execution_count": 8,
   "metadata": {},
   "outputs": [
    {
     "data": {
      "text/plain": [
       "0.9699"
      ]
     },
     "execution_count": 8,
     "metadata": {},
     "output_type": "execute_result"
    }
   ],
   "source": [
    "#answer\n",
    "Q6B"
   ]
  },
  {
   "cell_type": "markdown",
   "metadata": {},
   "source": [
    "**Q7:** Find the mean value for the above `Q5` array, rounding to 4 decimal places.  Call this value `Q7`."
   ]
  },
  {
   "cell_type": "code",
   "execution_count": 49,
   "metadata": {},
   "outputs": [
    {
     "data": {
      "text/plain": [
       "0.4459"
      ]
     },
     "execution_count": 49,
     "metadata": {},
     "output_type": "execute_result"
    }
   ],
   "source": [
    "Q7 = np.round(Q5.mean(),4)\n",
    "Q7"
   ]
  },
  {
   "cell_type": "code",
   "execution_count": 9,
   "metadata": {},
   "outputs": [
    {
     "data": {
      "text/plain": [
       "0.4459"
      ]
     },
     "execution_count": 9,
     "metadata": {},
     "output_type": "execute_result"
    }
   ],
   "source": [
    "#answer\n",
    "Q7"
   ]
  },
  {
   "cell_type": "markdown",
   "metadata": {},
   "source": [
    "**Q8:** Select all even numbers from the following array and call this output `Q8`.\n",
    "```python\n",
    "arr = np.array([0, 1, 2, 3, 4, 5, 6, 7, 8, 9])\n",
    "```"
   ]
  },
  {
   "cell_type": "code",
   "execution_count": 56,
   "metadata": {},
   "outputs": [
    {
     "data": {
      "text/plain": [
       "array([0, 2, 4, 6, 8])"
      ]
     },
     "execution_count": 56,
     "metadata": {},
     "output_type": "execute_result"
    }
   ],
   "source": [
    "arr = np.array([0, 1, 2, 3, 4, 5, 6, 7, 8, 9])\n",
    "Q8 = arr[ arr % 2 == 0]\n",
    "Q8"
   ]
  },
  {
   "cell_type": "code",
   "execution_count": 10,
   "metadata": {},
   "outputs": [
    {
     "data": {
      "text/plain": [
       "array([0, 2, 4, 6, 8])"
      ]
     },
     "execution_count": 10,
     "metadata": {},
     "output_type": "execute_result"
    }
   ],
   "source": [
    "#answer\n",
    "Q8"
   ]
  },
  {
   "cell_type": "markdown",
   "metadata": {},
   "source": [
    "**Q9:** Make a copy of the `arr` array and call it `Q9`.  Replace all even numbers from `Q9` with `0`."
   ]
  },
  {
   "cell_type": "code",
   "execution_count": 62,
   "metadata": {},
   "outputs": [
    {
     "data": {
      "text/plain": [
       "array([0, 1, 0, 3, 0, 5, 0, 7, 0, 9])"
      ]
     },
     "execution_count": 62,
     "metadata": {},
     "output_type": "execute_result"
    }
   ],
   "source": [
    "Q9 = arr.copy()\n",
    "Q9[ Q9 % 2 == 0] = 0\n",
    "Q9"
   ]
  },
  {
   "cell_type": "code",
   "execution_count": 11,
   "metadata": {},
   "outputs": [
    {
     "data": {
      "text/plain": [
       "array([0, 1, 0, 3, 0, 5, 0, 7, 0, 9])"
      ]
     },
     "execution_count": 11,
     "metadata": {},
     "output_type": "execute_result"
    }
   ],
   "source": [
    "#answer\n",
    "Q9"
   ]
  },
  {
   "cell_type": "markdown",
   "metadata": {},
   "source": [
    "**Q10:** Use the [where](https://numpy.org/doc/stable/reference/generated/numpy.where.html) method to replace all odd numbers from the above `Q9` array with a `-1` and call it `Q10`."
   ]
  },
  {
   "cell_type": "code",
   "execution_count": 72,
   "metadata": {},
   "outputs": [
    {
     "data": {
      "text/plain": [
       "array([ 0, -1,  0, -1,  0, -1,  0, -1,  0, -1])"
      ]
     },
     "execution_count": 72,
     "metadata": {},
     "output_type": "execute_result"
    }
   ],
   "source": [
    "Q10 = np.where(Q9 % 2 != 0,-1,Q9)\n",
    "Q10"
   ]
  },
  {
   "cell_type": "code",
   "execution_count": 12,
   "metadata": {},
   "outputs": [
    {
     "data": {
      "text/plain": [
       "array([ 0, -1,  0, -1,  0, -1,  0, -1,  0, -1])"
      ]
     },
     "execution_count": 12,
     "metadata": {},
     "output_type": "execute_result"
    }
   ],
   "source": [
    "#answer \n",
    "Q10"
   ]
  },
  {
   "cell_type": "markdown",
   "metadata": {},
   "source": [
    "**Q11** Reshape the above `arr` array to a `2x5` array and call it `Q11`."
   ]
  },
  {
   "cell_type": "code",
   "execution_count": 73,
   "metadata": {},
   "outputs": [
    {
     "data": {
      "text/plain": [
       "array([[ 0, -1,  0, -1,  0],\n",
       "       [-1,  0, -1,  0, -1]])"
      ]
     },
     "execution_count": 73,
     "metadata": {},
     "output_type": "execute_result"
    }
   ],
   "source": [
    "Q11 = Q10.reshape(2,5)\n",
    "Q11"
   ]
  },
  {
   "cell_type": "code",
   "execution_count": 13,
   "metadata": {},
   "outputs": [
    {
     "data": {
      "text/plain": [
       "array([[ 0, -1,  0, -1,  0],\n",
       "       [-1,  0, -1,  0, -1]])"
      ]
     },
     "execution_count": 13,
     "metadata": {},
     "output_type": "execute_result"
    }
   ],
   "source": [
    "#answer\n",
    "Q11"
   ]
  },
  {
   "cell_type": "markdown",
   "metadata": {},
   "source": [
    "**Q12:** Stack `arr1` and `arr2` (both given below) vertically and call this array `Q12`."
   ]
  },
  {
   "cell_type": "code",
   "execution_count": 89,
   "metadata": {},
   "outputs": [],
   "source": [
    "arr1 = np.arange(0,10).reshape(2,5)\n",
    "arr2 = np.arange(10,20).reshape(2,5)"
   ]
  },
  {
   "cell_type": "code",
   "execution_count": 90,
   "metadata": {},
   "outputs": [
    {
     "data": {
      "text/plain": [
       "array([[ 0,  1,  2,  3,  4],\n",
       "       [ 5,  6,  7,  8,  9],\n",
       "       [10, 11, 12, 13, 14],\n",
       "       [15, 16, 17, 18, 19]])"
      ]
     },
     "execution_count": 90,
     "metadata": {},
     "output_type": "execute_result"
    }
   ],
   "source": [
    "Q12 = np.vstack((arr1,arr2))\n",
    "Q12"
   ]
  },
  {
   "cell_type": "code",
   "execution_count": 91,
   "metadata": {},
   "outputs": [
    {
     "data": {
      "text/plain": [
       "array([[ 0,  1,  2,  3,  4],\n",
       "       [ 5,  6,  7,  8,  9],\n",
       "       [10, 11, 12, 13, 14],\n",
       "       [15, 16, 17, 18, 19]])"
      ]
     },
     "execution_count": 91,
     "metadata": {},
     "output_type": "execute_result"
    }
   ],
   "source": [
    "#answer\n",
    "Q12"
   ]
  },
  {
   "cell_type": "markdown",
   "metadata": {},
   "source": [
    "**Q13:** Stack `arr1` and `arr2` horizontally and call this array `Q13`."
   ]
  },
  {
   "cell_type": "code",
   "execution_count": 92,
   "metadata": {},
   "outputs": [
    {
     "data": {
      "text/plain": [
       "array([[ 0,  1,  2,  3,  4, 10, 11, 12, 13, 14],\n",
       "       [ 5,  6,  7,  8,  9, 15, 16, 17, 18, 19]])"
      ]
     },
     "execution_count": 92,
     "metadata": {},
     "output_type": "execute_result"
    }
   ],
   "source": [
    "Q13 = np.hstack((arr1,arr2))\n",
    "Q13"
   ]
  },
  {
   "cell_type": "code",
   "execution_count": 15,
   "metadata": {},
   "outputs": [
    {
     "data": {
      "text/plain": [
       "array([[ 0,  1,  2,  3,  4, 10, 11, 12, 13, 14],\n",
       "       [ 5,  6,  7,  8,  9, 15, 16, 17, 18, 19]])"
      ]
     },
     "execution_count": 15,
     "metadata": {},
     "output_type": "execute_result"
    }
   ],
   "source": [
    "#answer\n",
    "Q13"
   ]
  },
  {
   "cell_type": "markdown",
   "metadata": {},
   "source": [
    "**Q14:** Swap the first and second columns in the following array called `arr3` and save it as `Q14`."
   ]
  },
  {
   "cell_type": "code",
   "execution_count": 184,
   "metadata": {},
   "outputs": [
    {
     "data": {
      "text/plain": [
       "array([[56, 22, 34],\n",
       "       [12, 54, 42],\n",
       "       [56, 67, 99]])"
      ]
     },
     "execution_count": 184,
     "metadata": {},
     "output_type": "execute_result"
    }
   ],
   "source": [
    "arr3 = np.array([[22, 56, 34],[54, 12, 42],[67, 56, 99]])\n",
    "arr3[:,[0,1]] = arr3[:,[1,0]]\n",
    "Q14 = arr3\n",
    "Q14"
   ]
  },
  {
   "cell_type": "code",
   "execution_count": 185,
   "metadata": {},
   "outputs": [
    {
     "data": {
      "text/plain": [
       "array([[56, 22, 34],\n",
       "       [12, 54, 42],\n",
       "       [56, 67, 99]])"
      ]
     },
     "execution_count": 185,
     "metadata": {},
     "output_type": "execute_result"
    }
   ],
   "source": [
    "#answer\n",
    "Q14"
   ]
  },
  {
   "cell_type": "markdown",
   "metadata": {},
   "source": [
    "**Q15:** Swap rows 1 and 2 in the above `Q14` array and call it `Q15`."
   ]
  },
  {
   "cell_type": "code",
   "execution_count": null,
   "metadata": {},
   "outputs": [],
   "source": []
  },
  {
   "cell_type": "code",
   "execution_count": 186,
   "metadata": {},
   "outputs": [
    {
     "data": {
      "text/plain": [
       "array([[12, 54, 42],\n",
       "       [56, 22, 34],\n",
       "       [56, 67, 99]])"
      ]
     },
     "execution_count": 186,
     "metadata": {},
     "output_type": "execute_result"
    }
   ],
   "source": [
    "\n",
    "Q14[[0,1],:] = Q14[[1,0],:]\n",
    "Q15 = Q14\n",
    "Q15"
   ]
  },
  {
   "cell_type": "code",
   "execution_count": 188,
   "metadata": {},
   "outputs": [
    {
     "data": {
      "text/plain": [
       "array([[12, 54, 42],\n",
       "       [56, 22, 34],\n",
       "       [56, 67, 99]])"
      ]
     },
     "execution_count": 188,
     "metadata": {},
     "output_type": "execute_result"
    }
   ],
   "source": [
    "#answer\n",
    "Q15"
   ]
  },
  {
   "cell_type": "markdown",
   "metadata": {},
   "source": [
    "**Q16:** Next, reverse the columns of the above `Q15` array and call it `Q16`."
   ]
  },
  {
   "cell_type": "code",
   "execution_count": 189,
   "metadata": {},
   "outputs": [
    {
     "data": {
      "text/plain": [
       "array([[42, 54, 12],\n",
       "       [34, 22, 56],\n",
       "       [99, 67, 56]])"
      ]
     },
     "execution_count": 189,
     "metadata": {},
     "output_type": "execute_result"
    }
   ],
   "source": [
    "\n",
    "Q15[:,[0,1,2]] = Q15[:,[2,1,0]]\n",
    "Q16 = Q15\n",
    "Q16"
   ]
  },
  {
   "cell_type": "code",
   "execution_count": 190,
   "metadata": {},
   "outputs": [
    {
     "data": {
      "text/plain": [
       "array([[42, 54, 12],\n",
       "       [34, 22, 56],\n",
       "       [99, 67, 56]])"
      ]
     },
     "execution_count": 190,
     "metadata": {},
     "output_type": "execute_result"
    }
   ],
   "source": [
    "#answer\n",
    "Q16"
   ]
  },
  {
   "cell_type": "markdown",
   "metadata": {},
   "source": [
    "**Q17:** Sort each row of the above `Q16` array from least to greatest and call it `Q17`."
   ]
  },
  {
   "cell_type": "code",
   "execution_count": 195,
   "metadata": {},
   "outputs": [],
   "source": [
    "Q17 = np.sort(Q16,axis=1)"
   ]
  },
  {
   "cell_type": "code",
   "execution_count": 196,
   "metadata": {},
   "outputs": [
    {
     "data": {
      "text/plain": [
       "array([[12, 34, 54],\n",
       "       [22, 42, 56],\n",
       "       [56, 67, 99]])"
      ]
     },
     "execution_count": 196,
     "metadata": {},
     "output_type": "execute_result"
    }
   ],
   "source": [
    "Q17"
   ]
  },
  {
   "cell_type": "code",
   "execution_count": 20,
   "metadata": {},
   "outputs": [
    {
     "data": {
      "text/plain": [
       "array([[12, 42, 54],\n",
       "       [22, 34, 56],\n",
       "       [56, 67, 99]])"
      ]
     },
     "execution_count": 20,
     "metadata": {},
     "output_type": "execute_result"
    }
   ],
   "source": [
    "#answer\n",
    "Q17"
   ]
  },
  {
   "cell_type": "markdown",
   "metadata": {},
   "source": [
    "**Q18:** Sort each column of the above `Q17` array from the least to the greatest and call it `Q18`."
   ]
  },
  {
   "cell_type": "code",
   "execution_count": 199,
   "metadata": {},
   "outputs": [],
   "source": [
    "Q18 = np.sort(Q17,axis=0)"
   ]
  },
  {
   "cell_type": "code",
   "execution_count": 200,
   "metadata": {},
   "outputs": [
    {
     "data": {
      "text/plain": [
       "array([[12, 34, 54],\n",
       "       [22, 42, 56],\n",
       "       [56, 67, 99]])"
      ]
     },
     "execution_count": 200,
     "metadata": {},
     "output_type": "execute_result"
    }
   ],
   "source": [
    "Q18"
   ]
  },
  {
   "cell_type": "code",
   "execution_count": 201,
   "metadata": {},
   "outputs": [
    {
     "data": {
      "text/plain": [
       "array([[12, 34, 54],\n",
       "       [22, 42, 56],\n",
       "       [56, 67, 99]])"
      ]
     },
     "execution_count": 201,
     "metadata": {},
     "output_type": "execute_result"
    }
   ],
   "source": [
    "#answer\n",
    "Q18"
   ]
  },
  {
   "cell_type": "markdown",
   "metadata": {},
   "source": [
    "**Q19:** Create a `1D` array called `Q19` of `100` values that range evenly between `[1 - 200]`.\n"
   ]
  },
  {
   "cell_type": "code",
   "execution_count": 204,
   "metadata": {},
   "outputs": [],
   "source": [
    "Q19 = np.linspace(1,200,100)"
   ]
  },
  {
   "cell_type": "code",
   "execution_count": 22,
   "metadata": {},
   "outputs": [
    {
     "data": {
      "text/plain": [
       "array([  1.        ,   3.01010101,   5.02020202,   7.03030303,\n",
       "         9.04040404,  11.05050505,  13.06060606,  15.07070707,\n",
       "        17.08080808,  19.09090909,  21.1010101 ,  23.11111111,\n",
       "        25.12121212,  27.13131313,  29.14141414,  31.15151515,\n",
       "        33.16161616,  35.17171717,  37.18181818,  39.19191919,\n",
       "        41.2020202 ,  43.21212121,  45.22222222,  47.23232323,\n",
       "        49.24242424,  51.25252525,  53.26262626,  55.27272727,\n",
       "        57.28282828,  59.29292929,  61.3030303 ,  63.31313131,\n",
       "        65.32323232,  67.33333333,  69.34343434,  71.35353535,\n",
       "        73.36363636,  75.37373737,  77.38383838,  79.39393939,\n",
       "        81.4040404 ,  83.41414141,  85.42424242,  87.43434343,\n",
       "        89.44444444,  91.45454545,  93.46464646,  95.47474747,\n",
       "        97.48484848,  99.49494949, 101.50505051, 103.51515152,\n",
       "       105.52525253, 107.53535354, 109.54545455, 111.55555556,\n",
       "       113.56565657, 115.57575758, 117.58585859, 119.5959596 ,\n",
       "       121.60606061, 123.61616162, 125.62626263, 127.63636364,\n",
       "       129.64646465, 131.65656566, 133.66666667, 135.67676768,\n",
       "       137.68686869, 139.6969697 , 141.70707071, 143.71717172,\n",
       "       145.72727273, 147.73737374, 149.74747475, 151.75757576,\n",
       "       153.76767677, 155.77777778, 157.78787879, 159.7979798 ,\n",
       "       161.80808081, 163.81818182, 165.82828283, 167.83838384,\n",
       "       169.84848485, 171.85858586, 173.86868687, 175.87878788,\n",
       "       177.88888889, 179.8989899 , 181.90909091, 183.91919192,\n",
       "       185.92929293, 187.93939394, 189.94949495, 191.95959596,\n",
       "       193.96969697, 195.97979798, 197.98989899, 200.        ])"
      ]
     },
     "execution_count": 22,
     "metadata": {},
     "output_type": "execute_result"
    }
   ],
   "source": [
    "#answer\n",
    "Q19"
   ]
  },
  {
   "cell_type": "markdown",
   "metadata": {},
   "source": [
    "**Q20:** Reshape `Q19` to a `25x4` array and call it `Q20`."
   ]
  },
  {
   "cell_type": "code",
   "execution_count": 206,
   "metadata": {},
   "outputs": [],
   "source": [
    "Q20 = Q19.reshape(25,4)"
   ]
  },
  {
   "cell_type": "code",
   "execution_count": 23,
   "metadata": {},
   "outputs": [
    {
     "data": {
      "text/plain": [
       "array([[  1.        ,   3.01010101,   5.02020202,   7.03030303],\n",
       "       [  9.04040404,  11.05050505,  13.06060606,  15.07070707],\n",
       "       [ 17.08080808,  19.09090909,  21.1010101 ,  23.11111111],\n",
       "       [ 25.12121212,  27.13131313,  29.14141414,  31.15151515],\n",
       "       [ 33.16161616,  35.17171717,  37.18181818,  39.19191919],\n",
       "       [ 41.2020202 ,  43.21212121,  45.22222222,  47.23232323],\n",
       "       [ 49.24242424,  51.25252525,  53.26262626,  55.27272727],\n",
       "       [ 57.28282828,  59.29292929,  61.3030303 ,  63.31313131],\n",
       "       [ 65.32323232,  67.33333333,  69.34343434,  71.35353535],\n",
       "       [ 73.36363636,  75.37373737,  77.38383838,  79.39393939],\n",
       "       [ 81.4040404 ,  83.41414141,  85.42424242,  87.43434343],\n",
       "       [ 89.44444444,  91.45454545,  93.46464646,  95.47474747],\n",
       "       [ 97.48484848,  99.49494949, 101.50505051, 103.51515152],\n",
       "       [105.52525253, 107.53535354, 109.54545455, 111.55555556],\n",
       "       [113.56565657, 115.57575758, 117.58585859, 119.5959596 ],\n",
       "       [121.60606061, 123.61616162, 125.62626263, 127.63636364],\n",
       "       [129.64646465, 131.65656566, 133.66666667, 135.67676768],\n",
       "       [137.68686869, 139.6969697 , 141.70707071, 143.71717172],\n",
       "       [145.72727273, 147.73737374, 149.74747475, 151.75757576],\n",
       "       [153.76767677, 155.77777778, 157.78787879, 159.7979798 ],\n",
       "       [161.80808081, 163.81818182, 165.82828283, 167.83838384],\n",
       "       [169.84848485, 171.85858586, 173.86868687, 175.87878788],\n",
       "       [177.88888889, 179.8989899 , 181.90909091, 183.91919192],\n",
       "       [185.92929293, 187.93939394, 189.94949495, 191.95959596],\n",
       "       [193.96969697, 195.97979798, 197.98989899, 200.        ]])"
      ]
     },
     "execution_count": 23,
     "metadata": {},
     "output_type": "execute_result"
    }
   ],
   "source": [
    "#answer\n",
    "Q20"
   ]
  },
  {
   "cell_type": "markdown",
   "metadata": {},
   "source": [
    "**Q21:** Index the first row of `Q20` and save this as `Q21`."
   ]
  },
  {
   "cell_type": "code",
   "execution_count": 209,
   "metadata": {},
   "outputs": [],
   "source": [
    "Q21 = Q20[0]"
   ]
  },
  {
   "cell_type": "code",
   "execution_count": 25,
   "metadata": {},
   "outputs": [
    {
     "data": {
      "text/plain": [
       "array([1.        , 3.01010101, 5.02020202, 7.03030303])"
      ]
     },
     "execution_count": 25,
     "metadata": {},
     "output_type": "execute_result"
    }
   ],
   "source": [
    "#answer\n",
    "Q21"
   ]
  },
  {
   "cell_type": "markdown",
   "metadata": {},
   "source": [
    "**Q22:** Index the second column of `Q20` and save this as `Q22`."
   ]
  },
  {
   "cell_type": "code",
   "execution_count": 211,
   "metadata": {},
   "outputs": [],
   "source": [
    "Q22 = Q20[:,1]"
   ]
  },
  {
   "cell_type": "code",
   "execution_count": 212,
   "metadata": {},
   "outputs": [
    {
     "data": {
      "text/plain": [
       "array([  3.01010101,  11.05050505,  19.09090909,  27.13131313,\n",
       "        35.17171717,  43.21212121,  51.25252525,  59.29292929,\n",
       "        67.33333333,  75.37373737,  83.41414141,  91.45454545,\n",
       "        99.49494949, 107.53535354, 115.57575758, 123.61616162,\n",
       "       131.65656566, 139.6969697 , 147.73737374, 155.77777778,\n",
       "       163.81818182, 171.85858586, 179.8989899 , 187.93939394,\n",
       "       195.97979798])"
      ]
     },
     "execution_count": 212,
     "metadata": {},
     "output_type": "execute_result"
    }
   ],
   "source": [
    "#answer\n",
    "Q22"
   ]
  },
  {
   "cell_type": "markdown",
   "metadata": {},
   "source": [
    "**Q23:** Index every other row of `Q20` starting from the first and save this as `Q23`."
   ]
  },
  {
   "cell_type": "code",
   "execution_count": 223,
   "metadata": {},
   "outputs": [],
   "source": [
    "Q23 = Q20[[0,2,4,6,8,10,12,14,16,18,20,22,24],:]"
   ]
  },
  {
   "cell_type": "code",
   "execution_count": 27,
   "metadata": {},
   "outputs": [
    {
     "data": {
      "text/plain": [
       "array([[  1.        ,   3.01010101,   5.02020202,   7.03030303],\n",
       "       [ 17.08080808,  19.09090909,  21.1010101 ,  23.11111111],\n",
       "       [ 33.16161616,  35.17171717,  37.18181818,  39.19191919],\n",
       "       [ 49.24242424,  51.25252525,  53.26262626,  55.27272727],\n",
       "       [ 65.32323232,  67.33333333,  69.34343434,  71.35353535],\n",
       "       [ 81.4040404 ,  83.41414141,  85.42424242,  87.43434343],\n",
       "       [ 97.48484848,  99.49494949, 101.50505051, 103.51515152],\n",
       "       [113.56565657, 115.57575758, 117.58585859, 119.5959596 ],\n",
       "       [129.64646465, 131.65656566, 133.66666667, 135.67676768],\n",
       "       [145.72727273, 147.73737374, 149.74747475, 151.75757576],\n",
       "       [161.80808081, 163.81818182, 165.82828283, 167.83838384],\n",
       "       [177.88888889, 179.8989899 , 181.90909091, 183.91919192],\n",
       "       [193.96969697, 195.97979798, 197.98989899, 200.        ]])"
      ]
     },
     "execution_count": 27,
     "metadata": {},
     "output_type": "execute_result"
    }
   ],
   "source": [
    "#answer\n",
    "Q23"
   ]
  },
  {
   "cell_type": "markdown",
   "metadata": {},
   "source": [
    "**Q24:** Index the 3rd, 5th and 7th row of the `Q20` array can save this as `Q24`."
   ]
  },
  {
   "cell_type": "code",
   "execution_count": 222,
   "metadata": {},
   "outputs": [],
   "source": [
    "Q24 = Q20[[2,4,6],:]"
   ]
  },
  {
   "cell_type": "code",
   "execution_count": 29,
   "metadata": {},
   "outputs": [
    {
     "data": {
      "text/plain": [
       "array([[17.08080808, 19.09090909, 21.1010101 , 23.11111111],\n",
       "       [33.16161616, 35.17171717, 37.18181818, 39.19191919],\n",
       "       [49.24242424, 51.25252525, 53.26262626, 55.27272727]])"
      ]
     },
     "execution_count": 29,
     "metadata": {},
     "output_type": "execute_result"
    }
   ],
   "source": [
    "#answer\n",
    "Q24"
   ]
  },
  {
   "cell_type": "markdown",
   "metadata": {},
   "source": [
    "**Q25:** Copy the `Q20` array and save it as `Q25`.  Select only the values below 50 from `Q25`, add 5 to these values, and then multiply by 2. The other values should remain unchanged and everything should be saved back to `Q25`."
   ]
  },
  {
   "cell_type": "code",
   "execution_count": 280,
   "metadata": {},
   "outputs": [],
   "source": [
    "Q25 = Q20.copy()\n",
    "Q25 = np.array(Q25)\n",
    "update = Q25 < 50\n",
    "Q25[update] = (Q25[update] + 5)* 2\n"
   ]
  },
  {
   "cell_type": "code",
   "execution_count": 30,
   "metadata": {},
   "outputs": [
    {
     "data": {
      "text/plain": [
       "array([[ 12.        ,  16.02020202,  20.04040404,  24.06060606],\n",
       "       [ 28.08080808,  32.1010101 ,  36.12121212,  40.14141414],\n",
       "       [ 44.16161616,  48.18181818,  52.2020202 ,  56.22222222],\n",
       "       [ 60.24242424,  64.26262626,  68.28282828,  72.3030303 ],\n",
       "       [ 76.32323232,  80.34343434,  84.36363636,  88.38383838],\n",
       "       [ 92.4040404 ,  96.42424242, 100.44444444, 104.46464646],\n",
       "       [108.48484848,  51.25252525,  53.26262626,  55.27272727],\n",
       "       [ 57.28282828,  59.29292929,  61.3030303 ,  63.31313131],\n",
       "       [ 65.32323232,  67.33333333,  69.34343434,  71.35353535],\n",
       "       [ 73.36363636,  75.37373737,  77.38383838,  79.39393939],\n",
       "       [ 81.4040404 ,  83.41414141,  85.42424242,  87.43434343],\n",
       "       [ 89.44444444,  91.45454545,  93.46464646,  95.47474747],\n",
       "       [ 97.48484848,  99.49494949, 101.50505051, 103.51515152],\n",
       "       [105.52525253, 107.53535354, 109.54545455, 111.55555556],\n",
       "       [113.56565657, 115.57575758, 117.58585859, 119.5959596 ],\n",
       "       [121.60606061, 123.61616162, 125.62626263, 127.63636364],\n",
       "       [129.64646465, 131.65656566, 133.66666667, 135.67676768],\n",
       "       [137.68686869, 139.6969697 , 141.70707071, 143.71717172],\n",
       "       [145.72727273, 147.73737374, 149.74747475, 151.75757576],\n",
       "       [153.76767677, 155.77777778, 157.78787879, 159.7979798 ],\n",
       "       [161.80808081, 163.81818182, 165.82828283, 167.83838384],\n",
       "       [169.84848485, 171.85858586, 173.86868687, 175.87878788],\n",
       "       [177.88888889, 179.8989899 , 181.90909091, 183.91919192],\n",
       "       [185.92929293, 187.93939394, 189.94949495, 191.95959596],\n",
       "       [193.96969697, 195.97979798, 197.98989899, 200.        ]])"
      ]
     },
     "execution_count": 30,
     "metadata": {},
     "output_type": "execute_result"
    }
   ],
   "source": [
    "#answer\n",
    "Q25"
   ]
  },
  {
   "cell_type": "markdown",
   "metadata": {},
   "source": [
    "**Q26:** Add `Q20` and `Q25` and call the new array `Q26`."
   ]
  },
  {
   "cell_type": "code",
   "execution_count": 283,
   "metadata": {},
   "outputs": [],
   "source": [
    "Q26 = np.add(Q20,Q25)"
   ]
  },
  {
   "cell_type": "code",
   "execution_count": 31,
   "metadata": {},
   "outputs": [
    {
     "data": {
      "text/plain": [
       "array([[ 13.        ,  19.03030303,  25.06060606,  31.09090909],\n",
       "       [ 37.12121212,  43.15151515,  49.18181818,  55.21212121],\n",
       "       [ 61.24242424,  67.27272727,  73.3030303 ,  79.33333333],\n",
       "       [ 85.36363636,  91.39393939,  97.42424242, 103.45454545],\n",
       "       [109.48484848, 115.51515152, 121.54545455, 127.57575758],\n",
       "       [133.60606061, 139.63636364, 145.66666667, 151.6969697 ],\n",
       "       [157.72727273, 102.50505051, 106.52525253, 110.54545455],\n",
       "       [114.56565657, 118.58585859, 122.60606061, 126.62626263],\n",
       "       [130.64646465, 134.66666667, 138.68686869, 142.70707071],\n",
       "       [146.72727273, 150.74747475, 154.76767677, 158.78787879],\n",
       "       [162.80808081, 166.82828283, 170.84848485, 174.86868687],\n",
       "       [178.88888889, 182.90909091, 186.92929293, 190.94949495],\n",
       "       [194.96969697, 198.98989899, 203.01010101, 207.03030303],\n",
       "       [211.05050505, 215.07070707, 219.09090909, 223.11111111],\n",
       "       [227.13131313, 231.15151515, 235.17171717, 239.19191919],\n",
       "       [243.21212121, 247.23232323, 251.25252525, 255.27272727],\n",
       "       [259.29292929, 263.31313131, 267.33333333, 271.35353535],\n",
       "       [275.37373737, 279.39393939, 283.41414141, 287.43434343],\n",
       "       [291.45454545, 295.47474747, 299.49494949, 303.51515152],\n",
       "       [307.53535354, 311.55555556, 315.57575758, 319.5959596 ],\n",
       "       [323.61616162, 327.63636364, 331.65656566, 335.67676768],\n",
       "       [339.6969697 , 343.71717172, 347.73737374, 351.75757576],\n",
       "       [355.77777778, 359.7979798 , 363.81818182, 367.83838384],\n",
       "       [371.85858586, 375.87878788, 379.8989899 , 383.91919192],\n",
       "       [387.93939394, 391.95959596, 395.97979798, 400.        ]])"
      ]
     },
     "execution_count": 31,
     "metadata": {},
     "output_type": "execute_result"
    }
   ],
   "source": [
    "#answer\n",
    "Q26"
   ]
  },
  {
   "cell_type": "markdown",
   "metadata": {},
   "source": [
    "**Q27:** What is the `shape` of `Q26`?  Save this as `Q27`."
   ]
  },
  {
   "cell_type": "code",
   "execution_count": 287,
   "metadata": {},
   "outputs": [],
   "source": [
    "Q27 = Q26.shape"
   ]
  },
  {
   "cell_type": "code",
   "execution_count": 32,
   "metadata": {},
   "outputs": [
    {
     "data": {
      "text/plain": [
       "(25, 4)"
      ]
     },
     "execution_count": 32,
     "metadata": {},
     "output_type": "execute_result"
    }
   ],
   "source": [
    "#answer\n",
    "Q27"
   ]
  },
  {
   "cell_type": "markdown",
   "metadata": {},
   "source": [
    "**Q28:** Cast `Q26` array as an `int64` data type.  Save this as `Q28`. What happens to the values?"
   ]
  },
  {
   "cell_type": "code",
   "execution_count": 292,
   "metadata": {},
   "outputs": [],
   "source": [
    "Q28 = Q26.astype(dtype='int64')"
   ]
  },
  {
   "cell_type": "code",
   "execution_count": 33,
   "metadata": {},
   "outputs": [
    {
     "data": {
      "text/plain": [
       "array([[ 13,  19,  25,  31],\n",
       "       [ 37,  43,  49,  55],\n",
       "       [ 61,  67,  73,  79],\n",
       "       [ 85,  91,  97, 103],\n",
       "       [109, 115, 121, 127],\n",
       "       [133, 139, 145, 151],\n",
       "       [157, 102, 106, 110],\n",
       "       [114, 118, 122, 126],\n",
       "       [130, 134, 138, 142],\n",
       "       [146, 150, 154, 158],\n",
       "       [162, 166, 170, 174],\n",
       "       [178, 182, 186, 190],\n",
       "       [194, 198, 203, 207],\n",
       "       [211, 215, 219, 223],\n",
       "       [227, 231, 235, 239],\n",
       "       [243, 247, 251, 255],\n",
       "       [259, 263, 267, 271],\n",
       "       [275, 279, 283, 287],\n",
       "       [291, 295, 299, 303],\n",
       "       [307, 311, 315, 319],\n",
       "       [323, 327, 331, 335],\n",
       "       [339, 343, 347, 351],\n",
       "       [355, 359, 363, 367],\n",
       "       [371, 375, 379, 383],\n",
       "       [387, 391, 395, 400]], dtype=int64)"
      ]
     },
     "execution_count": 33,
     "metadata": {},
     "output_type": "execute_result"
    }
   ],
   "source": [
    "#answer\n",
    "Q28"
   ]
  },
  {
   "cell_type": "markdown",
   "metadata": {},
   "source": [
    "**Q29:** \n",
    "- Make a copy of the `Q28` array and call it `Q29`.  \n",
    "- Select the first value in the first 5 rows in `Q29` and call this slice `arr_slice`.\n",
    "- Update the second value in `arr_slice` to `42`. Before you check the results, will this update `Q29` or will it remain unchanged?"
   ]
  },
  {
   "cell_type": "code",
   "execution_count": 307,
   "metadata": {},
   "outputs": [],
   "source": [
    "##Yes This will Update Q9\n",
    "Q29 = Q28.copy()\n",
    "arr_slice = Q29[:5,0]\n",
    "arr_slice[1] = 42"
   ]
  },
  {
   "cell_type": "code",
   "execution_count": 102,
   "metadata": {},
   "outputs": [
    {
     "data": {
      "text/plain": [
       "array([[ 13,  19,  25,  31],\n",
       "       [ 42,  43,  49,  55],\n",
       "       [ 61,  67,  73,  79],\n",
       "       [ 85,  91,  97, 103],\n",
       "       [109, 115, 121, 127],\n",
       "       [133, 139, 145, 151],\n",
       "       [157, 102, 106, 110],\n",
       "       [114, 118, 122, 126],\n",
       "       [130, 134, 138, 142],\n",
       "       [146, 150, 154, 158],\n",
       "       [162, 166, 170, 174],\n",
       "       [178, 182, 186, 190],\n",
       "       [194, 198, 202, 206],\n",
       "       [210, 214, 218, 222],\n",
       "       [226, 230, 234, 238],\n",
       "       [242, 246, 250, 254],\n",
       "       [258, 262, 266, 270],\n",
       "       [274, 278, 282, 286],\n",
       "       [290, 294, 298, 302],\n",
       "       [306, 310, 314, 318],\n",
       "       [322, 326, 330, 334],\n",
       "       [338, 342, 346, 350],\n",
       "       [354, 358, 362, 366],\n",
       "       [370, 374, 378, 382],\n",
       "       [386, 390, 394, 398]])"
      ]
     },
     "execution_count": 102,
     "metadata": {},
     "output_type": "execute_result"
    }
   ],
   "source": [
    "#answer\n",
    "Q29"
   ]
  },
  {
   "cell_type": "markdown",
   "metadata": {},
   "source": [
    "**Q30:** Set all negative values in the `data` array (given below) to `0`.  For this exercise you will be updating the actual `data` array."
   ]
  },
  {
   "cell_type": "code",
   "execution_count": 1,
   "metadata": {},
   "outputs": [
    {
     "ename": "NameError",
     "evalue": "name 'np' is not defined",
     "output_type": "error",
     "traceback": [
      "\u001b[1;31m---------------------------------------------------------------------------\u001b[0m",
      "\u001b[1;31mNameError\u001b[0m                                 Traceback (most recent call last)",
      "Cell \u001b[1;32mIn[1], line 2\u001b[0m\n\u001b[0;32m      1\u001b[0m \u001b[38;5;66;03m## Creating the data array\u001b[39;00m\n\u001b[1;32m----> 2\u001b[0m data \u001b[38;5;241m=\u001b[39m \u001b[43mnp\u001b[49m\u001b[38;5;241m.\u001b[39marray([  \u001b[38;5;241m2\u001b[39m,   \u001b[38;5;241m-\u001b[39m\u001b[38;5;241m4\u001b[39m,   \u001b[38;5;241m8\u001b[39m,  \u001b[38;5;241m16\u001b[39m,   \u001b[38;5;241m-\u001b[39m\u001b[38;5;241m32\u001b[39m,   \u001b[38;5;241m-\u001b[39m\u001b[38;5;241m64\u001b[39m, \u001b[38;5;241m128\u001b[39m])\n\u001b[0;32m      3\u001b[0m data \u001b[38;5;241m=\u001b[39m np\u001b[38;5;241m.\u001b[39mwhere(data \u001b[38;5;241m<\u001b[39m \u001b[38;5;241m0\u001b[39m,\u001b[38;5;241m0\u001b[39m,data)\n",
      "\u001b[1;31mNameError\u001b[0m: name 'np' is not defined"
     ]
    }
   ],
   "source": [
    "## Creating the data array\n",
    "data = np.array([  2,   -4,   8,  16,   -32,   -64, 128])\n",
    "data = np.where(data < 0,0,data)"
   ]
  },
  {
   "cell_type": "code",
   "execution_count": 37,
   "metadata": {},
   "outputs": [
    {
     "data": {
      "text/plain": [
       "array([  2,   0,   8,  16,   0,   0, 128])"
      ]
     },
     "execution_count": 37,
     "metadata": {},
     "output_type": "execute_result"
    }
   ],
   "source": [
    "#answer"
   ]
  },
  {
   "cell_type": "markdown",
   "metadata": {},
   "source": [
    "Good work!"
   ]
  }
 ],
 "metadata": {
  "kernelspec": {
   "display_name": "Python 3 (ipykernel)",
   "language": "python",
   "name": "python3"
  },
  "language_info": {
   "codemirror_mode": {
    "name": "ipython",
    "version": 3
   },
   "file_extension": ".py",
   "mimetype": "text/x-python",
   "name": "python",
   "nbconvert_exporter": "python",
   "pygments_lexer": "ipython3",
   "version": "3.9.19"
  }
 },
 "nbformat": 4,
 "nbformat_minor": 4
}
