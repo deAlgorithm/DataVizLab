{
 "cells": [
  {
   "cell_type": "markdown",
   "metadata": {},
   "source": [
    "\n",
    "## Picture Phrase: NumPy Challenge\n",
    "\n",
    "\n",
    "## Overview\n",
    "\n",
    "A picture with a specific phrase written on it was taken and turned it into a NumPy array of RGB values. The array was then transformed using a set of specific NumPy transformations. It will be your task to transform the array back to the original by performing the same NumPy transformations. \n",
    "\n",
    "In the end, you will reshape the array and show the corresponding image associated with it..\n",
    "\n",
    "The result of each question shown after each question cell.\n",
    "\n",
    "### Important Details\n",
    "\n",
    "- Please make sure you follow all the steps <u>*in order*</u> or the picture may not be viewable and the question may be counted incorrect in CodeGrade.  \n",
    "- Since these operations must be done in order, you MUST use the variable from the previous question when performing the operation. For example:\n",
    "\n",
    "   **SampleQ1:** Create a variable called SampleQ1 that is equal to 1.\n",
    "\n",
    "       SampleQ1 = 1\n",
    "\n",
    "   **SampleQ2:** Add 1.\n",
    "\n",
    "      SampleQ2 = SampleQ1 + 1\n",
    "\n",
    "   **SampleQ3:** Multiply by 2\n",
    "\n",
    "      SampleQ3 = SampleQ2 * 2\n",
    "      \n",
    "- To prevent creating views of the array where you might inadvertently change an earlier array without knowing it, we have included code in most questions to create a copy of the previous array.  You will need to uncomment that code as you go along.  [See this link for more information on views vs copies.](https://www.w3schools.com/python/numpy/numpy_copy_vs_view.asp#:~:text=The%20main%20difference%20between%20a,will%20not%20affect%20the%20copy.)\n"
   ]
  },
  {
   "cell_type": "markdown",
   "metadata": {},
   "source": [
    "## Standard Imports"
   ]
  },
  {
   "cell_type": "code",
   "execution_count": 1,
   "metadata": {},
   "outputs": [],
   "source": [
    "# load standard imports\n",
    "import numpy as np\n",
    "from matplotlib import pyplot as plt\n",
    "np.set_printoptions(suppress=True) #prevent numpy exponential "
   ]
  },
  {
   "cell_type": "markdown",
   "metadata": {},
   "source": [
    "## Load Array "
   ]
  },
  {
   "cell_type": "code",
   "execution_count": 2,
   "metadata": {},
   "outputs": [],
   "source": [
    "# load image\n",
    "img = np.loadtxt('array.txt', dtype='U32')"
   ]
  },
  {
   "cell_type": "code",
   "execution_count": 3,
   "metadata": {},
   "outputs": [
    {
     "data": {
      "text/plain": [
       "array(['-7.45', '2484.4', '-6.7', ..., '42894.65', '40607.15', '46813.95'],\n",
       "      dtype='<U32')"
      ]
     },
     "execution_count": 3,
     "metadata": {},
     "output_type": "execute_result"
    }
   ],
   "source": [
    "# view array\n",
    "img"
   ]
  },
  {
   "cell_type": "markdown",
   "metadata": {},
   "source": [
    "It doesn't look like it, but this array actually contains RGB values (albeit mixed up and transformed) for a picture. Let's check the shape of the data."
   ]
  },
  {
   "cell_type": "markdown",
   "metadata": {},
   "source": [
    "## NumPy Exercises\n",
    "\n",
    "**Exercise:** What is the shape of the NumPy array?"
   ]
  },
  {
   "cell_type": "code",
   "execution_count": null,
   "metadata": {},
   "outputs": [],
   "source": [
    "### ENTER CODE HERE ###"
   ]
  },
  {
   "cell_type": "code",
   "execution_count": 4,
   "metadata": {},
   "outputs": [
    {
     "data": {
      "text/plain": [
       "(812160,)"
      ]
     },
     "execution_count": 4,
     "metadata": {},
     "output_type": "execute_result"
    }
   ],
   "source": [
    "#answer"
   ]
  },
  {
   "cell_type": "markdown",
   "metadata": {},
   "source": [
    "Next, let's check the data type.\n",
    "\n",
    "**Exercise:** What is the data type for the array?"
   ]
  },
  {
   "cell_type": "code",
   "execution_count": null,
   "metadata": {},
   "outputs": [],
   "source": []
  },
  {
   "cell_type": "code",
   "execution_count": 5,
   "metadata": {},
   "outputs": [
    {
     "data": {
      "text/plain": [
       "numpy.ndarray"
      ]
     },
     "execution_count": 5,
     "metadata": {},
     "output_type": "execute_result"
    }
   ],
   "source": [
    "#answer"
   ]
  },
  {
   "cell_type": "markdown",
   "metadata": {},
   "source": [
    "### Questions\n",
    "\n",
    "For the next tasks, save your output as the question number.  The first two have been done for you as examples."
   ]
  },
  {
   "cell_type": "markdown",
   "metadata": {},
   "source": [
    "In order to perform mathematical operations on the data, we will need the values to be in a numerical format. \n",
    "\n",
    "**Q1:** Update the data type of `img` to `float64` and call it `Q1`."
   ]
  },
  {
   "cell_type": "code",
   "execution_count": 6,
   "metadata": {},
   "outputs": [
    {
     "data": {
      "text/plain": [
       "array([   -7.45,  2484.4 ,    -6.7 , ..., 42894.65, 40607.15, 46813.95])"
      ]
     },
     "execution_count": 6,
     "metadata": {},
     "output_type": "execute_result"
    }
   ],
   "source": [
    "# update `img` to float and call it Q1\n",
    "Q1 = img.astype('float64')\n",
    "Q1"
   ]
  },
  {
   "cell_type": "markdown",
   "metadata": {},
   "source": [
    "One of the key features of NumPy is its ability to perform mathematical operations on whole blocks of data. Let's look at some of these operations.\n",
    "\n",
    "**Q2:** Multiply each element in the `Q1` array by 10 and call this new array `Q2`."
   ]
  },
  {
   "cell_type": "code",
   "execution_count": 7,
   "metadata": {},
   "outputs": [
    {
     "data": {
      "text/plain": [
       "array([   -74.5,  24844. ,    -67. , ..., 428946.5, 406071.5, 468139.5])"
      ]
     },
     "execution_count": 7,
     "metadata": {},
     "output_type": "execute_result"
    }
   ],
   "source": [
    "# multiply each element by 10 \n",
    "Q2 = Q1 * 10\n",
    "Q2"
   ]
  },
  {
   "cell_type": "markdown",
   "metadata": {},
   "source": [
    "**Q3:** \n",
    "    \n",
    "1. Create a NumPy array called `arr` of the following five values: 32, 54, 67, 88, 4\n",
    "    \n",
    "2. Use the NumPy's sum method to add all the values together and store as a variable called `total`.  \n",
    "    \n",
    "3. Add this total to every element of the `Q2` array and call this new array `Q3`."
   ]
  },
  {
   "cell_type": "code",
   "execution_count": null,
   "metadata": {},
   "outputs": [],
   "source": []
  },
  {
   "cell_type": "code",
   "execution_count": 8,
   "metadata": {},
   "outputs": [
    {
     "data": {
      "text/plain": [
       "array([   170.5,  25089. ,    178. , ..., 429191.5, 406316.5, 468384.5])"
      ]
     },
     "execution_count": 8,
     "metadata": {},
     "output_type": "execute_result"
    }
   ],
   "source": [
    "#answer"
   ]
  },
  {
   "cell_type": "markdown",
   "metadata": {},
   "source": [
    "**Q4:** Add the `Q3` array to itself (example: array + array) and call it `Q4`. This will add the corresponding values in each cell to each other."
   ]
  },
  {
   "cell_type": "code",
   "execution_count": null,
   "metadata": {},
   "outputs": [],
   "source": []
  },
  {
   "cell_type": "code",
   "execution_count": 9,
   "metadata": {},
   "outputs": [
    {
     "data": {
      "text/plain": [
       "array([   341.,  50178.,    356., ..., 858383., 812633., 936769.])"
      ]
     },
     "execution_count": 9,
     "metadata": {},
     "output_type": "execute_result"
    }
   ],
   "source": [
    "#answer"
   ]
  },
  {
   "cell_type": "markdown",
   "metadata": {},
   "source": [
    "**Q5:** Subtract 1 from the first item in the `Q4` array, 2 from the 2nd item, 3 from the 3rd item...n from the n<sup>th</sup> item and call the new array `Q5`. You should **not** do this using any type of loop as that wouldn't be efficient. \n",
    "\n",
    "**Hint:** Think about creating a second array that could be used in combination with the first array to complete the task.  NumPy's [linspace() method](https://numpy.org/doc/stable/reference/generated/numpy.linspace.html) may come in handy here."
   ]
  },
  {
   "cell_type": "code",
   "execution_count": null,
   "metadata": {},
   "outputs": [],
   "source": []
  },
  {
   "cell_type": "code",
   "execution_count": 10,
   "metadata": {},
   "outputs": [
    {
     "data": {
      "text/plain": [
       "array([   340.,  50176.,    353., ...,  46225.,    474., 124609.])"
      ]
     },
     "execution_count": 10,
     "metadata": {},
     "output_type": "execute_result"
    }
   ],
   "source": [
    "#answer"
   ]
  },
  {
   "cell_type": "markdown",
   "metadata": {},
   "source": [
    "**Code Check:**  To check your code so far, the output of your `Q5` array should be: \n",
    "\n",
    "`array([ 340., 50176., 353.,..., 46225., 474., 124609.])`.  \n",
    "\n",
    "If your output does not match, go back and check your above steps."
   ]
  },
  {
   "cell_type": "markdown",
   "metadata": {},
   "source": [
    "**Q6:** \n",
    "- Uncomment the line below that copies the `Q5` array and calls the new array `Q6` (this step makes sure that we are working with a copy instead of a view of the previous array). \n",
    "- Update the 4th element in the `Q6` array to `46225`. <u>Careful</u>: Remember that Python is zero based index."
   ]
  },
  {
   "cell_type": "code",
   "execution_count": 11,
   "metadata": {},
   "outputs": [],
   "source": [
    "# create a copy\n",
    "Q6 = Q5.copy()"
   ]
  },
  {
   "cell_type": "code",
   "execution_count": null,
   "metadata": {},
   "outputs": [],
   "source": []
  },
  {
   "cell_type": "code",
   "execution_count": 12,
   "metadata": {},
   "outputs": [
    {
     "data": {
      "text/plain": [
       "array([   340.,  50176.,    353., ...,  46225.,    474., 124609.])"
      ]
     },
     "execution_count": 12,
     "metadata": {},
     "output_type": "execute_result"
    }
   ],
   "source": [
    "#answer"
   ]
  },
  {
   "cell_type": "markdown",
   "metadata": {},
   "source": [
    "**Q7:** \n",
    "- Copy the `Q6` array and call the new array `Q7`. \n",
    "- Select the indices from `1,000` to `200,000` (including the element in the `200,000` index) and the indices from `400,000` to `600,000` (including the element in the `600,000` index) in `Q7` and add `255` to only those values."
   ]
  },
  {
   "cell_type": "code",
   "execution_count": 13,
   "metadata": {},
   "outputs": [],
   "source": [
    "# Create a copy\n",
    "Q7 = Q6.copy()"
   ]
  },
  {
   "cell_type": "code",
   "execution_count": null,
   "metadata": {},
   "outputs": [],
   "source": []
  },
  {
   "cell_type": "code",
   "execution_count": 14,
   "metadata": {},
   "outputs": [
    {
     "data": {
      "text/plain": [
       "array([   340.,  50176.,    353., ...,  46225.,    474., 124609.])"
      ]
     },
     "execution_count": 14,
     "metadata": {},
     "output_type": "execute_result"
    }
   ],
   "source": [
    "#answer"
   ]
  },
  {
   "cell_type": "markdown",
   "metadata": {},
   "source": [
    "**Code Check:**  To check your code, confirm the following output from `Q7`:\n",
    "```\n",
    "Q7[999] should equal 46225.0\n",
    "Q7[1000] should equal 349.0\n",
    "Q7[600000] should equal 341.0\n",
    "Q7[600001] should equal 50625.0\n",
    "```"
   ]
  },
  {
   "cell_type": "markdown",
   "metadata": {},
   "source": [
    "**Q8:** \n",
    "- Copy the `Q7` array and call the new array `Q8`.  \n",
    "- Reshape the `Q8` array to a two-dimensional, two-column array."
   ]
  },
  {
   "cell_type": "code",
   "execution_count": 15,
   "metadata": {},
   "outputs": [],
   "source": [
    "# create a copy\n",
    "Q8 = Q7.copy()"
   ]
  },
  {
   "cell_type": "code",
   "execution_count": null,
   "metadata": {},
   "outputs": [],
   "source": []
  },
  {
   "cell_type": "code",
   "execution_count": 16,
   "metadata": {},
   "outputs": [
    {
     "data": {
      "text/plain": [
       "array([[   340.,  50176.],\n",
       "       [   353.,  46225.],\n",
       "       [   349.,  51984.],\n",
       "       ...,\n",
       "       [   340.,  50176.],\n",
       "       [   353.,  46225.],\n",
       "       [   474., 124609.]])"
      ]
     },
     "execution_count": 16,
     "metadata": {},
     "output_type": "execute_result"
    }
   ],
   "source": [
    "#answer"
   ]
  },
  {
   "cell_type": "markdown",
   "metadata": {},
   "source": [
    "**Q9:** \n",
    "- Copy the `Q8` array and call the new array `Q9`.  \n",
    "- Swap the two columns from this `Q9` array. In other words, the first column will now be the second and the second column will now be the first."
   ]
  },
  {
   "cell_type": "code",
   "execution_count": 17,
   "metadata": {},
   "outputs": [],
   "source": [
    "# create a copy\n",
    "Q9 = Q8.copy()"
   ]
  },
  {
   "cell_type": "code",
   "execution_count": null,
   "metadata": {},
   "outputs": [],
   "source": []
  },
  {
   "cell_type": "code",
   "execution_count": 18,
   "metadata": {},
   "outputs": [
    {
     "data": {
      "text/plain": [
       "array([[ 50176.,    340.],\n",
       "       [ 46225.,    353.],\n",
       "       [ 51984.,    349.],\n",
       "       ...,\n",
       "       [ 50176.,    340.],\n",
       "       [ 46225.,    353.],\n",
       "       [124609.,    474.]])"
      ]
     },
     "execution_count": 18,
     "metadata": {},
     "output_type": "execute_result"
    }
   ],
   "source": [
    "#answer"
   ]
  },
  {
   "cell_type": "markdown",
   "metadata": {},
   "source": [
    "**Q10:** \n",
    "- Copy the `Q9` array and call the new array `Q10`. \n",
    "- Reverse the order of the rows of the `Q10` array."
   ]
  },
  {
   "cell_type": "code",
   "execution_count": 19,
   "metadata": {},
   "outputs": [],
   "source": [
    "# create a copy\n",
    "Q10 = Q9.copy()"
   ]
  },
  {
   "cell_type": "code",
   "execution_count": null,
   "metadata": {},
   "outputs": [],
   "source": []
  },
  {
   "cell_type": "code",
   "execution_count": 20,
   "metadata": {},
   "outputs": [
    {
     "data": {
      "text/plain": [
       "array([[124609.,    474.],\n",
       "       [ 46225.,    353.],\n",
       "       [ 50176.,    340.],\n",
       "       ...,\n",
       "       [ 51984.,    349.],\n",
       "       [ 46225.,    353.],\n",
       "       [ 50176.,    340.]])"
      ]
     },
     "execution_count": 20,
     "metadata": {},
     "output_type": "execute_result"
    }
   ],
   "source": [
    "#answer"
   ]
  },
  {
   "cell_type": "markdown",
   "metadata": {},
   "source": [
    "**Code Check:** To check your code, the output of `Q10` should be the following:\n",
    "\n",
    "```\n",
    "array([[124609.,    474.],\n",
    "       [ 46225.,    353.],\n",
    "       [ 50176.,    340.],\n",
    "       ...,\n",
    "       [ 51984.,    349.],\n",
    "       [ 46225.,    353.],\n",
    "       [ 50176.,    340.]])\n",
    "```\n",
    "\n",
    "If your output does not match, go back and review your previous steps."
   ]
  },
  {
   "cell_type": "markdown",
   "metadata": {},
   "source": [
    "**Q11:** \n",
    "- Copy the `Q10` array and call it `Q11`. \n",
    "- Set `Q11`'s 101st row as `[46225, 353]`. <u>Careful</u>: Remember that Python is zero based index"
   ]
  },
  {
   "cell_type": "code",
   "execution_count": 21,
   "metadata": {},
   "outputs": [],
   "source": [
    "# create a copy\n",
    "Q11 = Q10.copy()"
   ]
  },
  {
   "cell_type": "code",
   "execution_count": null,
   "metadata": {},
   "outputs": [],
   "source": []
  },
  {
   "cell_type": "code",
   "execution_count": 22,
   "metadata": {},
   "outputs": [
    {
     "data": {
      "text/plain": [
       "array([[124609.,    474.],\n",
       "       [ 46225.,    353.],\n",
       "       [ 50176.,    340.],\n",
       "       ...,\n",
       "       [ 51984.,    349.],\n",
       "       [ 46225.,    353.],\n",
       "       [ 50176.,    340.]])"
      ]
     },
     "execution_count": 22,
     "metadata": {},
     "output_type": "execute_result"
    }
   ],
   "source": [
    "#answer"
   ]
  },
  {
   "cell_type": "markdown",
   "metadata": {},
   "source": [
    "**Q12:** \n",
    "- Copy the `Q11` array and call it `Q12`. \n",
    "- Set the **first element** in `Q12's` 100,001st row to `46656`.  The second element in that row should remain unchanged. <u>Careful</u>: Remember that Python is zero based index"
   ]
  },
  {
   "cell_type": "code",
   "execution_count": 23,
   "metadata": {},
   "outputs": [],
   "source": [
    "# create a copy\n",
    "Q12 = Q11.copy()"
   ]
  },
  {
   "cell_type": "code",
   "execution_count": null,
   "metadata": {},
   "outputs": [],
   "source": []
  },
  {
   "cell_type": "code",
   "execution_count": 24,
   "metadata": {},
   "outputs": [
    {
     "data": {
      "text/plain": [
       "array([[124609.,    474.],\n",
       "       [ 46225.,    353.],\n",
       "       [ 50176.,    340.],\n",
       "       ...,\n",
       "       [ 51984.,    349.],\n",
       "       [ 46225.,    353.],\n",
       "       [ 50176.,    340.]])"
      ]
     },
     "execution_count": 24,
     "metadata": {},
     "output_type": "execute_result"
    }
   ],
   "source": [
    "#answer"
   ]
  },
  {
   "cell_type": "markdown",
   "metadata": {},
   "source": [
    "**Q13:** \n",
    "- Copy the `Q12` array and call it `Q13`. \n",
    "- Subtract 125 from every element in the **second column** for `Q13`."
   ]
  },
  {
   "cell_type": "code",
   "execution_count": 25,
   "metadata": {},
   "outputs": [],
   "source": [
    "# create a copy\n",
    "Q13 = Q12.copy()"
   ]
  },
  {
   "cell_type": "code",
   "execution_count": null,
   "metadata": {},
   "outputs": [],
   "source": []
  },
  {
   "cell_type": "code",
   "execution_count": 26,
   "metadata": {},
   "outputs": [
    {
     "data": {
      "text/plain": [
       "array([[124609.,    349.],\n",
       "       [ 46225.,    228.],\n",
       "       [ 50176.,    215.],\n",
       "       ...,\n",
       "       [ 51984.,    224.],\n",
       "       [ 46225.,    228.],\n",
       "       [ 50176.,    215.]])"
      ]
     },
     "execution_count": 26,
     "metadata": {},
     "output_type": "execute_result"
    }
   ],
   "source": [
    "#answer"
   ]
  },
  {
   "cell_type": "markdown",
   "metadata": {},
   "source": [
    "**Q14:** \n",
    "- Copy the `Q13` array and call it `Q14`. \n",
    "- Take the square root of every element in the **first column** of `Q14`."
   ]
  },
  {
   "cell_type": "code",
   "execution_count": 27,
   "metadata": {},
   "outputs": [],
   "source": [
    "# copy\n",
    "Q14 = Q13.copy()"
   ]
  },
  {
   "cell_type": "code",
   "execution_count": null,
   "metadata": {},
   "outputs": [],
   "source": []
  },
  {
   "cell_type": "code",
   "execution_count": 28,
   "metadata": {},
   "outputs": [
    {
     "data": {
      "text/plain": [
       "array([[353., 349.],\n",
       "       [215., 228.],\n",
       "       [224., 215.],\n",
       "       ...,\n",
       "       [228., 224.],\n",
       "       [215., 228.],\n",
       "       [224., 215.]])"
      ]
     },
     "execution_count": 28,
     "metadata": {},
     "output_type": "execute_result"
    }
   ],
   "source": [
    "#answer"
   ]
  },
  {
   "cell_type": "markdown",
   "metadata": {},
   "source": [
    "**Code Check:** To check your code, the output of `Q14` should be:\n",
    "```\n",
    "array([[353., 349.],\n",
    "       [215., 228.],\n",
    "       [224., 215.],\n",
    "       ...,\n",
    "       [228., 224.],\n",
    "       [215., 228.],\n",
    "       [224., 215.]])\n",
    "```     \n",
    "If your output does not match, go back and review your previous steps."
   ]
  },
  {
   "cell_type": "markdown",
   "metadata": {},
   "source": [
    "**Q15:** \n",
    "- Copy the `Q14` array and call it `Q15`.  \n",
    "- Change any value in the `Q15` array that is currently 999 and set it to 117."
   ]
  },
  {
   "cell_type": "code",
   "execution_count": 29,
   "metadata": {},
   "outputs": [],
   "source": [
    "# copy\n",
    "Q15 = Q14.copy()"
   ]
  },
  {
   "cell_type": "code",
   "execution_count": null,
   "metadata": {},
   "outputs": [],
   "source": []
  },
  {
   "cell_type": "code",
   "execution_count": 30,
   "metadata": {},
   "outputs": [
    {
     "data": {
      "text/plain": [
       "array([[353., 349.],\n",
       "       [215., 228.],\n",
       "       [224., 215.],\n",
       "       ...,\n",
       "       [228., 224.],\n",
       "       [215., 228.],\n",
       "       [224., 215.]])"
      ]
     },
     "execution_count": 30,
     "metadata": {},
     "output_type": "execute_result"
    }
   ],
   "source": [
    "#answer"
   ]
  },
  {
   "cell_type": "markdown",
   "metadata": {},
   "source": [
    "# **Q16:** \n",
    "1. Copy the `Q15` array and call it `Q16`.\n",
    "2. Take the [transpose](https://numpy.org/doc/stable/reference/generated/numpy.ndarray.T.html#numpy.ndarray.T) of the `Q16` array.\n",
    "3. Subtract 125 from the first column of all rows.\n",
    "4. Take the transpose of the array again (this puts it back in its original state) making sure that all the changes are saved as `Q16`."
   ]
  },
  {
   "cell_type": "code",
   "execution_count": 31,
   "metadata": {},
   "outputs": [],
   "source": [
    "# copy\n",
    "Q16 = "
   ]
  },
  {
   "cell_type": "code",
   "execution_count": null,
   "metadata": {},
   "outputs": [],
   "source": []
  },
  {
   "cell_type": "code",
   "execution_count": 32,
   "metadata": {},
   "outputs": [
    {
     "data": {
      "text/plain": [
       "array([[228., 224.],\n",
       "       [215., 228.],\n",
       "       [224., 215.],\n",
       "       ...,\n",
       "       [228., 224.],\n",
       "       [215., 228.],\n",
       "       [224., 215.]])"
      ]
     },
     "execution_count": 32,
     "metadata": {},
     "output_type": "execute_result"
    }
   ],
   "source": [
    "#answer"
   ]
  },
  {
   "cell_type": "markdown",
   "metadata": {},
   "source": [
    "**Q17:** \n",
    "- Copy the `Q16` array and call it `Q17`.  \n",
    "- Reshape the `Q17` array to (423, 640, 3). Note: the 3 values in each row are the RGB values for every pixel of the picture."
   ]
  },
  {
   "cell_type": "code",
   "execution_count": 2,
   "metadata": {},
   "outputs": [],
   "source": [
    "# copy\n",
    "Q17 = "
   ]
  },
  {
   "cell_type": "code",
   "execution_count": 34,
   "metadata": {},
   "outputs": [
    {
     "data": {
      "text/plain": [
       "array([[[228., 224., 215.],\n",
       "        [228., 224., 215.],\n",
       "        [228., 224., 215.],\n",
       "        ...,\n",
       "        [228., 224., 215.],\n",
       "        [228., 224., 215.],\n",
       "        [228., 224., 215.]],\n",
       "\n",
       "       [[228., 224., 215.],\n",
       "        [228., 224., 215.],\n",
       "        [228., 224., 215.],\n",
       "        ...,\n",
       "        [228., 224., 215.],\n",
       "        [228., 224., 215.],\n",
       "        [228., 224., 215.]],\n",
       "\n",
       "       [[228., 224., 215.],\n",
       "        [228., 224., 215.],\n",
       "        [228., 224., 215.],\n",
       "        ...,\n",
       "        [228., 224., 215.],\n",
       "        [228., 224., 215.],\n",
       "        [228., 224., 215.]],\n",
       "\n",
       "       ...,\n",
       "\n",
       "       [[ 10.,   9.,  14.],\n",
       "        [ 10.,   9.,  14.],\n",
       "        [ 10.,   9.,  14.],\n",
       "        ...,\n",
       "        [228., 224., 215.],\n",
       "        [228., 224., 215.],\n",
       "        [228., 224., 215.]],\n",
       "\n",
       "       [[ 13.,  12.,  17.],\n",
       "        [ 12.,  11.,  16.],\n",
       "        [ 11.,  10.,  15.],\n",
       "        ...,\n",
       "        [228., 224., 215.],\n",
       "        [228., 224., 215.],\n",
       "        [228., 224., 215.]],\n",
       "\n",
       "       [[ 12.,  11.,  16.],\n",
       "        [ 11.,  10.,  15.],\n",
       "        [ 10.,   9.,  14.],\n",
       "        ...,\n",
       "        [228., 224., 215.],\n",
       "        [228., 224., 215.],\n",
       "        [228., 224., 215.]]])"
      ]
     },
     "execution_count": 34,
     "metadata": {},
     "output_type": "execute_result"
    }
   ],
   "source": [
    "#answer"
   ]
  },
  {
   "cell_type": "markdown",
   "metadata": {},
   "source": [
    "**Q18:** \n",
    "- Copy the `Q17` array and call it `Q18`.  \n",
    "- Cast the entire `Q18` array as an `int`."
   ]
  },
  {
   "cell_type": "code",
   "execution_count": 35,
   "metadata": {},
   "outputs": [],
   "source": [
    "# copy\n",
    "Q18 = Q17.copy()"
   ]
  },
  {
   "cell_type": "code",
   "execution_count": null,
   "metadata": {},
   "outputs": [],
   "source": []
  },
  {
   "cell_type": "code",
   "execution_count": 36,
   "metadata": {},
   "outputs": [
    {
     "data": {
      "text/plain": [
       "array([[[228, 224, 215],\n",
       "        [228, 224, 215],\n",
       "        [228, 224, 215],\n",
       "        ...,\n",
       "        [228, 224, 215],\n",
       "        [228, 224, 215],\n",
       "        [228, 224, 215]],\n",
       "\n",
       "       [[228, 224, 215],\n",
       "        [228, 224, 215],\n",
       "        [228, 224, 215],\n",
       "        ...,\n",
       "        [228, 224, 215],\n",
       "        [228, 224, 215],\n",
       "        [228, 224, 215]],\n",
       "\n",
       "       [[228, 224, 215],\n",
       "        [228, 224, 215],\n",
       "        [228, 224, 215],\n",
       "        ...,\n",
       "        [228, 224, 215],\n",
       "        [228, 224, 215],\n",
       "        [228, 224, 215]],\n",
       "\n",
       "       ...,\n",
       "\n",
       "       [[ 10,   9,  14],\n",
       "        [ 10,   9,  14],\n",
       "        [ 10,   9,  14],\n",
       "        ...,\n",
       "        [228, 224, 215],\n",
       "        [228, 224, 215],\n",
       "        [228, 224, 215]],\n",
       "\n",
       "       [[ 13,  12,  17],\n",
       "        [ 12,  11,  16],\n",
       "        [ 11,  10,  15],\n",
       "        ...,\n",
       "        [228, 224, 215],\n",
       "        [228, 224, 215],\n",
       "        [228, 224, 215]],\n",
       "\n",
       "       [[ 12,  11,  16],\n",
       "        [ 11,  10,  15],\n",
       "        [ 10,   9,  14],\n",
       "        ...,\n",
       "        [228, 224, 215],\n",
       "        [228, 224, 215],\n",
       "        [228, 224, 215]]])"
      ]
     },
     "execution_count": 36,
     "metadata": {},
     "output_type": "execute_result"
    }
   ],
   "source": [
    "#answer"
   ]
  },
  {
   "cell_type": "markdown",
   "metadata": {},
   "source": [
    "**Q19:** Uncomment the first line of code below (`img = Q18`).  Then run the code block to plot your array. "
   ]
  },
  {
   "cell_type": "code",
   "execution_count": 4,
   "metadata": {},
   "outputs": [],
   "source": [
    "# uncomment the line below\n",
    "img = Q18\n",
    "\n",
    "# # plot image\n",
    "# fig = plt.figure(figsize=(15, 10))\n",
    "# plt.imshow(img)\n",
    "# plt.show()"
   ]
  },
  {
   "cell_type": "markdown",
   "metadata": {},
   "source": [
    "**Q20:** Create a variable called `Q20` that is a string of the phrase in the picture (include punctuation but not the name of the author).  You can of course hard code this string."
   ]
  },
  {
   "cell_type": "code",
   "execution_count": null,
   "metadata": {},
   "outputs": [],
   "source": []
  },
  {
   "cell_type": "code",
   "execution_count": 38,
   "metadata": {},
   "outputs": [
    {
     "name": "stdout",
     "output_type": "stream",
     "text": [
      "When my cats aren't happy, I'm not happy. Not because I care about their mood but because I know they're just sitting there thinking up ways to get even.\n"
     ]
    }
   ],
   "source": [
    "#answer"
   ]
  },
  {
   "cell_type": "code",
   "execution_count": null,
   "metadata": {},
   "outputs": [],
   "source": []
  }
 ],
 "metadata": {
  "kernelspec": {
   "display_name": "Python 3",
   "language": "python",
   "name": "python3"
  },
  "language_info": {
   "codemirror_mode": {
    "name": "ipython",
    "version": 3
   },
   "file_extension": ".py",
   "mimetype": "text/x-python",
   "name": "python",
   "nbconvert_exporter": "python",
   "pygments_lexer": "ipython3",
   "version": "3.7.3"
  }
 },
 "nbformat": 4,
 "nbformat_minor": 4
}
