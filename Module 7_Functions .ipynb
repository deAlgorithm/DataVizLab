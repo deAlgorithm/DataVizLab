{
 "cells": [
  {
   "cell_type": "markdown",
   "metadata": {},
   "source": [
    "# Functions In Python\n",
    "\n",
    "A function is a block of organized, reusable code that is used to perform a single, related action. Functions provide better modularity for your application and a high degree of code reusing.\n",
    "\n",
    "### Defining a Function\n",
    "You can define functions by following the rules below:\n",
    "\n",
    "* Function blocks begin with the keyword __def__ followed by the function name and parentheses ( ( ) ).\n",
    "\n",
    "* Any input parameters or arguments should be placed within these parentheses. You can also define parameters inside these parentheses.\n",
    "\n",
    "* The first statement of a function can be an optional statement - the documentation string of the function or docstring.\n",
    "\n",
    "* The code block within every function starts with a colon (:) and is indented.\n",
    "\n",
    "* The statement return [expression] exits a function, optionally passing back an expression to the caller. A return statement with no arguments is the same as return None.\n",
    "\n",
    "\n",
    "```python\n",
    "def functionname( parameters ):\n",
    "   \"function_docstring descrinng what the function does\"\n",
    "\n",
    "   # list of expressions to be executed\n",
    "    \n",
    "   return [expression]\n",
    "\n",
    "```\n",
    "\n",
    "### Example\n",
    "The following function takes a two numbers as input parameters and prints out the sum:"
   ]
  },
  {
   "cell_type": "code",
   "execution_count": 2,
   "metadata": {},
   "outputs": [],
   "source": [
    "def print_sum(a, b):\n",
    "    \"This prints the sum of two numbers a and b\"\n",
    "    print(a + b)\n",
    "    return"
   ]
  },
  {
   "cell_type": "markdown",
   "metadata": {},
   "source": [
    "### Calling a Function\n",
    "Defining a function only gives it a name, specifies the parameters that are to be included in the function and structures the blocks of code. Inorder to use the function, you must call the name and pass in the required parameters.\n",
    "\n",
    "To demonstrate this, we call the __print_sum__ function we created above:"
   ]
  },
  {
   "cell_type": "code",
   "execution_count": 3,
   "metadata": {},
   "outputs": [
    {
     "name": "stdout",
     "output_type": "stream",
     "text": [
      "11\n"
     ]
    }
   ],
   "source": [
    "print_sum(5,6)"
   ]
  },
  {
   "cell_type": "markdown",
   "metadata": {},
   "source": [
    "## Passing values\n",
    "\n",
    "### Pass by reference\n",
    "All parameters (arguments) in the Python language are passed by reference. It means if you change what a parameter refers to within a function, the change also reflects back in the calling function. For example:"
   ]
  },
  {
   "cell_type": "code",
   "execution_count": 4,
   "metadata": {},
   "outputs": [
    {
     "name": "stdout",
     "output_type": "stream",
     "text": [
      "The passed name is John Stone\n",
      "The new name in this function is Harry Potter\n"
     ]
    }
   ],
   "source": [
    "def change_name(name):\n",
    "    print(\"The passed name is {}\".format(name))\n",
    "    #change the name\n",
    "    name = \"Harry Potter\"\n",
    "    print(\"The new name in this function is {}\".format(name))\n",
    "    return\n",
    "\n",
    "#call the function\n",
    "name = \"John Stone\"\n",
    "change_name(name)"
   ]
  },
  {
   "cell_type": "markdown",
   "metadata": {},
   "source": [
    "## Function Arguments\n",
    "You can call a function by using the following types of formal arguments:\n",
    "\n",
    "* Required arguments\n",
    "* Keyword arguments\n",
    "* Default arguments\n",
    "* Variable-length arguments\n",
    "\n",
    "### Required arguments\n",
    "Required arguments are the arguments passed to a function in correct positional order. Here, the number of arguments in the function call should match exactly with the function definition.\n",
    "For example, the function change_name above requires one argument for it to work. If you call the function without the required argument it throws an error."
   ]
  },
  {
   "cell_type": "code",
   "execution_count": 5,
   "metadata": {},
   "outputs": [
    {
     "ename": "TypeError",
     "evalue": "change_name() missing 1 required positional argument: 'name'",
     "output_type": "error",
     "traceback": [
      "\u001b[0;31m---------------------------------------------------------------------------\u001b[0m",
      "\u001b[0;31mTypeError\u001b[0m                                 Traceback (most recent call last)",
      "Cell \u001b[0;32mIn[5], line 1\u001b[0m\n\u001b[0;32m----> 1\u001b[0m \u001b[43mchange_name\u001b[49m\u001b[43m(\u001b[49m\u001b[43m)\u001b[49m\n",
      "\u001b[0;31mTypeError\u001b[0m: change_name() missing 1 required positional argument: 'name'"
     ]
    }
   ],
   "source": [
    "change_name()"
   ]
  },
  {
   "cell_type": "code",
   "execution_count": 6,
   "metadata": {},
   "outputs": [
    {
     "name": "stdout",
     "output_type": "stream",
     "text": [
      "The passed name is Opeyemi\n",
      "The new name in this function is Harry Potter\n"
     ]
    }
   ],
   "source": [
    "change_name(\"Opeyemi\")"
   ]
  },
  {
   "cell_type": "markdown",
   "metadata": {},
   "source": [
    "### Keyword arguments\n",
    "\n",
    "Keyword arguments are related to the function calls. When you use keyword arguments in a function call, the caller identifies the arguments by the parameter name."
   ]
  },
  {
   "cell_type": "code",
   "execution_count": 7,
   "metadata": {},
   "outputs": [
    {
     "name": "stdout",
     "output_type": "stream",
     "text": [
      "The passed name is Mercy\n",
      "The new name in this function is Harry Potter\n"
     ]
    }
   ],
   "source": [
    "change_name(name=\"Mercy\")"
   ]
  },
  {
   "cell_type": "code",
   "execution_count": 8,
   "metadata": {},
   "outputs": [
    {
     "name": "stdout",
     "output_type": "stream",
     "text": [
      "Name:  Jesse\n",
      "Age  20\n"
     ]
    }
   ],
   "source": [
    "def printinfo(name,age):\n",
    "    \"This prints the info about a person\"\n",
    "    print(\"Name: \", name)\n",
    "    print(\"Age \", age)\n",
    "    return\n",
    "\n",
    "printinfo(name=\"Jesse\", age=20)"
   ]
  },
  {
   "cell_type": "markdown",
   "metadata": {},
   "source": [
    "### Default arguments\n",
    "A default argument is an argument that assumes a default value if a value is not provided in the function call for that argument. The following example gives an idea on default arguments, it prints default age if it is not passed."
   ]
  },
  {
   "cell_type": "code",
   "execution_count": 9,
   "metadata": {},
   "outputs": [
    {
     "name": "stdout",
     "output_type": "stream",
     "text": [
      "Age  25\n"
     ]
    }
   ],
   "source": [
    "def printinfo(age=25):\n",
    "    \"This prints the info about a person\"\n",
    "    print(\"Age \", age)\n",
    "    return\n",
    "\n",
    "\n",
    "printinfo()"
   ]
  },
  {
   "cell_type": "code",
   "execution_count": 10,
   "metadata": {},
   "outputs": [
    {
     "name": "stdout",
     "output_type": "stream",
     "text": [
      "Age  45\n"
     ]
    }
   ],
   "source": [
    "printinfo(45)"
   ]
  },
  {
   "cell_type": "markdown",
   "metadata": {},
   "source": [
    "### Variable-length arguments\n",
    "You may need to process a function for more arguments than you specified while defining the function. These arguments are called variable-length arguments and are not named in the function definition, unlike required and default arguments.\n",
    "\n",
    "```python\n",
    "def functionname([formal_args,] *var_args_tuple ):\n",
    "   \"function_docstring\"\n",
    "   function_expressions\n",
    "   return [expression]\n",
    "\n",
    "```\n",
    "\n",
    "An asterisk (\\*) is placed before the variable name that holds the values of all nonkeyword variable arguments. This tuple remains empty if no additional arguments are specified during the function call. Following is a simple example::"
   ]
  },
  {
   "cell_type": "code",
   "execution_count": 11,
   "metadata": {},
   "outputs": [],
   "source": [
    "def printargs(name, *scores):\n",
    "   \"This prints a variable passed arguments\"\n",
    "   print(\"Name is: {}\".format(name))\n",
    "   #print info in variable leanght arguments\n",
    "   for var in scores:\n",
    "        print(var)\n",
    "        "
   ]
  },
  {
   "cell_type": "code",
   "execution_count": 12,
   "metadata": {},
   "outputs": [
    {
     "name": "stdout",
     "output_type": "stream",
     "text": [
      "Name is: John\n",
      "80\n",
      "90\n",
      "98\n",
      "97\n"
     ]
    }
   ],
   "source": [
    "printargs(\"John\", 80,90,98,97)"
   ]
  },
  {
   "cell_type": "markdown",
   "metadata": {},
   "source": [
    "### Return Statement\n",
    "The statement return [expression] exits a function, optionally passing back an expression to the caller. A return statement with no arguments is the same as return None."
   ]
  },
  {
   "cell_type": "code",
   "execution_count": 13,
   "metadata": {},
   "outputs": [
    {
     "name": "stdout",
     "output_type": "stream",
     "text": [
      "30\n"
     ]
    }
   ],
   "source": [
    "def sum(a, b ):\n",
    "   # Add both the parameters and return total\"\n",
    "   total = a + b\n",
    "   return total\n",
    "\n",
    "# Now you can call sum function and pass the result to a variable\n",
    "total = sum(10,20)\n",
    "print(total)"
   ]
  },
  {
   "cell_type": "markdown",
   "metadata": {},
   "source": [
    "### Global vs. Local variables\n",
    "Variables that are defined inside a function body have a local scope, and those defined outside have a global scope.\n",
    "\n",
    "This means that local variables can be accessed only inside the function in which they are declared, whereas global variables can be accessed throughout the program body by all functions. When you call a function, the variables declared inside it are brought into scope."
   ]
  },
  {
   "cell_type": "code",
   "execution_count": 14,
   "metadata": {},
   "outputs": [
    {
     "name": "stdout",
     "output_type": "stream",
     "text": [
      "The total inside the function is: 30\n",
      "The total outside the function is: 0\n"
     ]
    }
   ],
   "source": [
    "sum = 0 # This is global variable.\n",
    "\n",
    "def add_num(a, b):\n",
    "   # Add both the parameters and return total\"\n",
    "   sum = a + b\n",
    "   print(\"The total inside the function is: {}\".format(sum)) \n",
    "   return sum\n",
    "\n",
    "# Now you can call sum function\n",
    "add_num(10,20);\n",
    "print(\"The total outside the function is: {}\".format(sum))"
   ]
  },
  {
   "cell_type": "code",
   "execution_count": 1,
   "metadata": {},
   "outputs": [],
   "source": [
    "def add_two(num1,num2):\n",
    "    c = num1 + num2\n",
    "    return c\n",
    "\n"
   ]
  },
  {
   "cell_type": "code",
   "execution_count": 2,
   "metadata": {},
   "outputs": [
    {
     "data": {
      "text/plain": [
       "66669"
      ]
     },
     "execution_count": 2,
     "metadata": {},
     "output_type": "execute_result"
    }
   ],
   "source": [
    "add_two(3,66666)"
   ]
  },
  {
   "cell_type": "code",
   "execution_count": 7,
   "metadata": {},
   "outputs": [],
   "source": [
    "def  prt_name(name):\n",
    "    return name\n",
    "\n"
   ]
  },
  {
   "cell_type": "code",
   "execution_count": 8,
   "metadata": {},
   "outputs": [
    {
     "data": {
      "text/plain": [
       "'Jesus'"
      ]
     },
     "execution_count": 8,
     "metadata": {},
     "output_type": "execute_result"
    }
   ],
   "source": [
    "prt_name(\"Jesus\")"
   ]
  },
  {
   "cell_type": "code",
   "execution_count": 13,
   "metadata": {},
   "outputs": [
    {
     "data": {
      "text/plain": [
       "'jessu'"
      ]
     },
     "execution_count": 13,
     "metadata": {},
     "output_type": "execute_result"
    }
   ],
   "source": [
    "prt_name(\"Jesus\").capitalize().lower().replace(\"us\",\"su\")"
   ]
  },
  {
   "cell_type": "code",
   "execution_count": 14,
   "metadata": {},
   "outputs": [],
   "source": [
    "import numpy as np\n"
   ]
  },
  {
   "cell_type": "code",
   "execution_count": null,
   "metadata": {},
   "outputs": [],
   "source": []
  }
 ],
 "metadata": {
  "kernelspec": {
   "display_name": "Python 3 (ipykernel)",
   "language": "python",
   "name": "python3"
  },
  "language_info": {
   "codemirror_mode": {
    "name": "ipython",
    "version": 3
   },
   "file_extension": ".py",
   "mimetype": "text/x-python",
   "name": "python",
   "nbconvert_exporter": "python",
   "pygments_lexer": "ipython3",
   "version": "3.11.2"
  }
 },
 "nbformat": 4,
 "nbformat_minor": 4
}
