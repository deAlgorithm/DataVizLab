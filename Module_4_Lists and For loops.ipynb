{
 "cells": [
  {
   "cell_type": "code",
   "execution_count": 2,
   "id": "ba478690-5192-471d-8ada-d52fe67090c3",
   "metadata": {},
   "outputs": [
    {
     "name": "stdout",
     "output_type": "stream",
     "text": [
      "2\n",
      "3\n",
      "4\n"
     ]
    }
   ],
   "source": [
    "# While loop\n",
    "# counter\n",
    "i = 2\n",
    "\n",
    "# while condition\n",
    "while i < 5:\n",
    "    print(i)\n",
    "\n",
    "    #increment\n",
    "    i = i + 1"
   ]
  },
  {
   "cell_type": "code",
   "execution_count": 7,
   "id": "3583270f-a557-4cfa-99f1-6d56a1be117d",
   "metadata": {},
   "outputs": [
    {
     "name": "stdin",
     "output_type": "stream",
     "text": [
      "Type Your Name :  Otabil Ishaque\n"
     ]
    },
    {
     "name": "stdout",
     "output_type": "stream",
     "text": [
      "My name is Otabil Ishaque\n",
      "My name is Otabil Ishaque\n"
     ]
    }
   ],
   "source": [
    "name = input(\"Type Your Name : \")\n",
    "i = 1\n",
    "\n",
    "while i < 3:\n",
    "    print(\"My name is {}\".format(name))\n",
    "\n",
    "    i = i + 1"
   ]
  },
  {
   "cell_type": "code",
   "execution_count": 16,
   "id": "2e7d2e7e-ad58-4282-a49d-0e62ed9d55e6",
   "metadata": {},
   "outputs": [
    {
     "name": "stdout",
     "output_type": "stream",
     "text": [
      "adding one to 0\n",
      "adding one to 1\n",
      "adding one to 2\n"
     ]
    }
   ],
   "source": [
    "x = 0\n",
    "\n",
    "while x < 10:\n",
    "    print(\"adding one to {}\".format(x))\n",
    "    x = x + 1\n",
    "\n",
    "    if x == 3:\n",
    "         break"
   ]
  },
  {
   "cell_type": "code",
   "execution_count": 17,
   "id": "8349d122-5de0-4d25-8740-83e5622648ae",
   "metadata": {},
   "outputs": [
    {
     "name": "stdout",
     "output_type": "stream",
     "text": [
      "The character is O\n",
      "The character is t\n",
      "The character is a\n",
      "The character is b\n",
      "The character is i\n",
      "The character is l\n"
     ]
    }
   ],
   "source": [
    "myname = \"Otabil\"\n",
    "\n",
    "for n in myname:\n",
    "    print(\"The character is\", n)"
   ]
  },
  {
   "cell_type": "code",
   "execution_count": 18,
   "id": "87db9505-ff0c-42dd-996b-dbf85c00425a",
   "metadata": {},
   "outputs": [
    {
     "name": "stdout",
     "output_type": "stream",
     "text": [
      "1\n",
      "4\n",
      "9\n",
      "16\n"
     ]
    }
   ],
   "source": [
    "num = [1, 2, 3, 4]\n",
    "\n",
    "for n in num:\n",
    "    print(n**2)"
   ]
  },
  {
   "cell_type": "code",
   "execution_count": 22,
   "id": "829332f9-0648-4a8e-b470-bcabcb94225d",
   "metadata": {},
   "outputs": [
    {
     "name": "stdout",
     "output_type": "stream",
     "text": [
      "  1\n",
      "  2\n",
      "  3\n",
      "  4\n"
     ]
    }
   ],
   "source": [
    "for n in num:\n",
    "    print(\" \",n)"
   ]
  },
  {
   "cell_type": "code",
   "execution_count": 25,
   "id": "b63971ec-20b9-47ea-a886-012b49c1e0da",
   "metadata": {},
   "outputs": [
    {
     "data": {
      "text/plain": [
       "['its', 'amazing']"
      ]
     },
     "execution_count": 25,
     "metadata": {},
     "output_type": "execute_result"
    }
   ],
   "source": [
    "sentence = \"its amazing\"\n",
    "sentence.split()"
   ]
  },
  {
   "cell_type": "code",
   "execution_count": 26,
   "id": "00e980dd-6627-4d3e-9ae6-2c4f4c40841b",
   "metadata": {},
   "outputs": [
    {
     "name": "stdout",
     "output_type": "stream",
     "text": [
      "1\n",
      "2\n",
      "3\n",
      "4\n"
     ]
    }
   ],
   "source": [
    "tup = {1, 2, 3, 4}\n",
    "\n",
    "for n in tup:\n",
    "    print(n)"
   ]
  },
  {
   "cell_type": "code",
   "execution_count": null,
   "id": "b315f84a-2c9d-4dce-910f-a870b9067259",
   "metadata": {},
   "outputs": [],
   "source": []
  }
 ],
 "metadata": {
  "kernelspec": {
   "display_name": "Python 3 (ipykernel)",
   "language": "python",
   "name": "python3"
  },
  "language_info": {
   "codemirror_mode": {
    "name": "ipython",
    "version": 3
   },
   "file_extension": ".py",
   "mimetype": "text/x-python",
   "name": "python",
   "nbconvert_exporter": "python",
   "pygments_lexer": "ipython3",
   "version": "3.11.2"
  }
 },
 "nbformat": 4,
 "nbformat_minor": 5
}
